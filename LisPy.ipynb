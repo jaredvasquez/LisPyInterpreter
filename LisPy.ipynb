{
 "cells": [
  {
   "cell_type": "markdown",
   "metadata": {},
   "source": [
    "# LisPy Interpreter \n",
    "This notebook implements a subset of the scheme dialect of Lisp using Python"
   ]
  },
  {
   "cell_type": "code",
   "execution_count": 1,
   "metadata": {
    "collapsed": true
   },
   "outputs": [],
   "source": [
    "Symbol = str\n",
    "List   = list\n",
    "Number = (int, float)\n",
    "\n",
    "def parse( program ):\n",
    "    # Read a Scheme expression from a string\n",
    "    return read_from_tokens(tokenize(program))\n",
    "\n",
    "def tokenize( string ):\n",
    "    # Convert a string of characters into a list of tokens\n",
    "    return string.replace(\"(\",\" ( \").replace(\")\",\" ) \").split()\n",
    "\n",
    "def read_from_tokens( tokens ):\n",
    "    # Read an expression from a sequence of tokens\n",
    "    if not len(tokens): raise SyntaxError('unexpected EOF while reading')\n",
    "    token = tokens.pop(0)\n",
    "    if   \"(\" == token:\n",
    "        line = []\n",
    "        while tokens[0] != \")\": line.append(read_from_tokens(tokens))\n",
    "        tokens.pop(0)\n",
    "        return line\n",
    "    elif \")\" == token: raise SyntaxError(\"Unexpected\")\n",
    "    else: return atom(token)\n",
    "    \n",
    "def atom( token ):\n",
    "    # Numbers become numbers, every other token is a symbol\n",
    "    try:                   return int(token)\n",
    "    except ValueError:\n",
    "        try:               return float(token)\n",
    "        except ValueError: return Symbol(token)\n"
   ]
  },
  {
   "cell_type": "markdown",
   "metadata": {},
   "source": [
    "An environment is a mapping of procedures and variable names to their values."
   ]
  },
  {
   "cell_type": "code",
   "execution_count": 2,
   "metadata": {
    "collapsed": false
   },
   "outputs": [],
   "source": [
    "import math\n",
    "import operator as op\n",
    "\n",
    "Env = dict     # An environment is a mapping of {variable: value}\n",
    "\n",
    "def standard_env():\n",
    "    # An environment with some Scheme standard procedures\n",
    "    env = Env()\n",
    "    env.update(vars(math))\n",
    "    env.update({\n",
    "        \"+\":op.add, \"-\":op.sub, \"*\":op.mul, \"/\":op.div,\n",
    "        \">\":op.gt,  \"<\":op.lt,  \">=\":op.ge, \"<=\":op.le, \"=\":op.eq,\n",
    "        \"abs\":         abs,\n",
    "        \"append\":      op.add,\n",
    "        \"apply\":       apply,\n",
    "        \"begin\":       lambda *x: x[-1],\n",
    "        \"car\":         lambda x: x[0],\n",
    "        \"cdr\":         lambda x: x[1:],\n",
    "        \"cons\":        lambda x,y: [x] + y,\n",
    "        \"eq?\":         op.is_,\n",
    "        \"equal?\":      op.eq,\n",
    "        \"length\":      len,\n",
    "        \"list\":        lambda x: list(x),\n",
    "        \"list?\":       lambda x: isinstance(x, List),\n",
    "        \"map\":         map,\n",
    "        \"max\":         max,\n",
    "        \"min\":         min,\n",
    "        \"not\":         op.not_,\n",
    "        \"null?\":       lambda x: x == [],\n",
    "        \"number?\":     lambda x: isinstance(x, Number),\n",
    "        \"procedure?\":  callable,\n",
    "        \"round\":       round,\n",
    "        \"symbol?\":     lambda x: isinstance(x, Symbol),\n",
    "    })\n",
    "    return env\n",
    "        \n",
    "global_env = standard_env()"
   ]
  },
  {
   "cell_type": "markdown",
   "metadata": {},
   "source": [
    "Eval follows each line of the code to follow procedures and augment environmenet with user defined variables."
   ]
  },
  {
   "cell_type": "code",
   "execution_count": 3,
   "metadata": {
    "collapsed": true
   },
   "outputs": [],
   "source": [
    "def eval(x, env=global_env):\n",
    "    # Evaluate an expression in an environment\n",
    "    if isinstance(x, Symbol):       # variable reference\n",
    "        return env[x]\n",
    "    elif not isinstance(x, List):   # constant literal\n",
    "        return x\n",
    "    elif x[0] == \"if\":              # conditional\n",
    "        (_, test, conseq, alt) = x\n",
    "        exp = (conseq if eval(test, env) else alt)\n",
    "        return eval(exp, env)\n",
    "    elif x[0] == \"define\":          # definition\n",
    "        (_, var, exp) = x\n",
    "        env[var] = eval(exp, env)\n",
    "    elif x[0] == \"print\":           # print \n",
    "        print eval(x[1], env)\n",
    "    else:                           # procedure call\n",
    "        proc = eval(x[0], env)\n",
    "        args = [eval(arg, env) for arg in x[1:]]\n",
    "        return proc(*args)\n",
    "    \n",
    "def run(script): return eval(parse(script))"
   ]
  },
  {
   "cell_type": "markdown",
   "metadata": {},
   "source": [
    "Run the script. "
   ]
  },
  {
   "cell_type": "code",
   "execution_count": 4,
   "metadata": {
    "collapsed": false
   },
   "outputs": [
    {
     "name": "stdout",
     "output_type": "stream",
     "text": [
      "314.159265359\n"
     ]
    }
   ],
   "source": [
    "program = \"\"\"\n",
    "\n",
    "(begin \n",
    "  (define r 10) \n",
    "  (define area (* pi (* r r))) \n",
    "  (print area)\n",
    ")\n",
    "\n",
    "\"\"\"\n",
    "\n",
    "run(program)"
   ]
  },
  {
   "cell_type": "markdown",
   "metadata": {},
   "source": [
    "## Interpreter \n",
    "\n",
    "Let's also implement an interactive read-eval-print loop: a way for a programmer to enter an expression, and see it immediately read, evaluated and printed."
   ]
  },
  {
   "cell_type": "code",
   "execution_count": 5,
   "metadata": {
    "collapsed": true
   },
   "outputs": [],
   "source": [
    "def repl(prompt='LisPy> '):\n",
    "    # A prompt-read-eval-print loop.\n",
    "    while True:\n",
    "        val = eval(parse(\"(%s)\" % raw_input(prompt)))\n",
    "        if val is not None: print(schemestr(val))\n",
    "\n",
    "def schemestr(exp):\n",
    "    # Convert a Python object back into a Scheme-readable string.\n",
    "    if isinstance(exp, List):  return '(' + ' '.join(map(schemestr, exp)) + ')' \n",
    "    else:                      return str(exp)"
   ]
  },
  {
   "cell_type": "code",
   "execution_count": null,
   "metadata": {
    "collapsed": false
   },
   "outputs": [
    {
     "name": "stdout",
     "output_type": "stream",
     "text": [
      "LisPy> define r 10\n",
      "LisPy> define l 4\n",
      "LisPy> define vol (* pi (* r (* r l )))\n",
      "LisPy> print vol\n",
      "1256.63706144\n"
     ]
    }
   ],
   "source": [
    "repl()"
   ]
  },
  {
   "cell_type": "code",
   "execution_count": null,
   "metadata": {
    "collapsed": true
   },
   "outputs": [],
   "source": []
  }
 ],
 "metadata": {
  "kernelspec": {
   "display_name": "Python 2",
   "language": "python",
   "name": "python2"
  },
  "language_info": {
   "codemirror_mode": {
    "name": "ipython",
    "version": 2
   },
   "file_extension": ".py",
   "mimetype": "text/x-python",
   "name": "python",
   "nbconvert_exporter": "python",
   "pygments_lexer": "ipython2",
   "version": "2.7.11"
  }
 },
 "nbformat": 4,
 "nbformat_minor": 0
}
